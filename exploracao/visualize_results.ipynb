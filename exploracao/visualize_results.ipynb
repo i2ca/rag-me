{
 "cells": [
  {
   "cell_type": "markdown",
   "metadata": {},
   "source": [
    "## Vizualizar médias e gráficos das métricas por pasta"
   ]
  },
  {
   "cell_type": "code",
   "execution_count": 1,
   "metadata": {},
   "outputs": [],
   "source": [
    "# Escolher pasta a ser analisada\n",
    "import os\n",
    "import pandas as pd\n",
    "import seaborn as sns\n",
    "import matplotlib.pyplot as plt\n",
    "\n",
    "\n",
    "# results_dir = '../results/paper/dual-base-emb'\n",
    "# results_dir = '../results/paper/dual-base'\n",
    "# results_dir = '../results/paper-validation/validation/models'\n",
    "results_dir = '../results/paper/parameters-llama-multilingual'"
   ]
  },
  {
   "cell_type": "code",
   "execution_count": 2,
   "metadata": {},
   "outputs": [],
   "source": [
    "metrics_to_display = [\"perplexity_accuracy\", \"mca_v2_cot_no_context\", \"da_cot_10\"]"
   ]
  },
  {
   "cell_type": "code",
   "execution_count": 3,
   "metadata": {},
   "outputs": [
    {
     "name": "stdout",
     "output_type": "stream",
     "text": [
      "cvpr-papers-100-0\n",
      "cvpr-papers-100-25\n",
      "cvpr-papers-100-50\n",
      "cvpr-papers-100-75\n",
      "cvpr-papers-1000-0\n",
      "cvpr-papers-1000-25\n",
      "cvpr-papers-1000-50\n",
      "cvpr-papers-1000-75\n",
      "cvpr-papers-500-0\n",
      "cvpr-papers-500-25\n",
      "cvpr-papers-500-50\n",
      "cvpr-papers-500-75\n",
      "cvpr-papers-5000-0\n",
      "cvpr-papers-5000-25\n",
      "cvpr-papers-5000-50\n",
      "cvpr-papers-5000-75\n"
     ]
    }
   ],
   "source": [
    "results = []\n",
    "dirs = os.listdir(results_dir)\n",
    "dirs.sort()\n",
    "# para cada pasta dentro do results dir\n",
    "for folder in dirs:\n",
    "    # se for uma pasta\n",
    "    if os.path.isdir(os.path.join(results_dir, folder)):\n",
    "        print(folder)\n",
    "        # para cada csv dentro da pasta\n",
    "        for file in os.listdir(os.path.join(results_dir, folder)):\n",
    "            if file.endswith('.csv') and file != 'results_metrics.csv':\n",
    "                # ler csv\n",
    "                df = pd.read_csv(os.path.join(results_dir, folder, file))\n",
    "                folder_results = {\n",
    "                    \"name\": folder + \"/\" + file\n",
    "                }\n",
    "                for metric in metrics_to_display:\n",
    "                    if metric in df.columns:\n",
    "                        folder_results[metric] = df[metric].mean()\n",
    "                # adicionar ao dicionário\n",
    "                results.append(folder_results)\n",
    "    else:\n",
    "        file = folder\n",
    "        if file.endswith('.csv') and file != 'results_metrics.csv':\n",
    "                # ler csv\n",
    "                df = pd.read_csv(os.path.join(results_dir, file))\n",
    "                folder_results = {\n",
    "                    \"name\": folder + \"/\" + file\n",
    "                }\n",
    "                for metric in metrics_to_display:\n",
    "                    if metric in df.columns:\n",
    "                        folder_results[metric] = df[metric].mean()\n",
    "                # adicionar ao dicionário\n",
    "                results.append(folder_results)\n",
    "\n",
    "\n",
    "results_df = pd.DataFrame(results)"
   ]
  },
  {
   "cell_type": "code",
   "execution_count": 4,
   "metadata": {},
   "outputs": [
    {
     "data": {
      "text/html": [
       "<div>\n",
       "<style scoped>\n",
       "    .dataframe tbody tr th:only-of-type {\n",
       "        vertical-align: middle;\n",
       "    }\n",
       "\n",
       "    .dataframe tbody tr th {\n",
       "        vertical-align: top;\n",
       "    }\n",
       "\n",
       "    .dataframe thead th {\n",
       "        text-align: right;\n",
       "    }\n",
       "</style>\n",
       "<table border=\"1\" class=\"dataframe\">\n",
       "  <thead>\n",
       "    <tr style=\"text-align: right;\">\n",
       "      <th></th>\n",
       "      <th>name</th>\n",
       "      <th>da_cot_10</th>\n",
       "    </tr>\n",
       "  </thead>\n",
       "  <tbody>\n",
       "    <tr>\n",
       "      <th>0</th>\n",
       "      <td>cvpr-papers-100-0/outputs_rag_df_golden_questi...</td>\n",
       "      <td>0.408207</td>\n",
       "    </tr>\n",
       "    <tr>\n",
       "      <th>1</th>\n",
       "      <td>cvpr-papers-100-25/outputs_rag_df_golden_quest...</td>\n",
       "      <td>0.412527</td>\n",
       "    </tr>\n",
       "    <tr>\n",
       "      <th>2</th>\n",
       "      <td>cvpr-papers-100-50/outputs_rag_df_golden_quest...</td>\n",
       "      <td>0.421166</td>\n",
       "    </tr>\n",
       "    <tr>\n",
       "      <th>3</th>\n",
       "      <td>cvpr-papers-100-75/outputs_rag_df_golden_quest...</td>\n",
       "      <td>0.490281</td>\n",
       "    </tr>\n",
       "    <tr>\n",
       "      <th>4</th>\n",
       "      <td>cvpr-papers-1000-0/outputs_rag_df_golden_quest...</td>\n",
       "      <td>0.574514</td>\n",
       "    </tr>\n",
       "    <tr>\n",
       "      <th>5</th>\n",
       "      <td>cvpr-papers-1000-25/outputs_rag_df_golden_ques...</td>\n",
       "      <td>0.598272</td>\n",
       "    </tr>\n",
       "    <tr>\n",
       "      <th>6</th>\n",
       "      <td>cvpr-papers-1000-50/outputs_rag_df_golden_ques...</td>\n",
       "      <td>0.634989</td>\n",
       "    </tr>\n",
       "    <tr>\n",
       "      <th>7</th>\n",
       "      <td>cvpr-papers-1000-75/outputs_rag_df_golden_ques...</td>\n",
       "      <td>0.619870</td>\n",
       "    </tr>\n",
       "    <tr>\n",
       "      <th>8</th>\n",
       "      <td>cvpr-papers-500-0/outputs_rag_df_golden_questi...</td>\n",
       "      <td>0.624190</td>\n",
       "    </tr>\n",
       "    <tr>\n",
       "      <th>9</th>\n",
       "      <td>cvpr-papers-500-25/outputs_rag_df_golden_quest...</td>\n",
       "      <td>0.563715</td>\n",
       "    </tr>\n",
       "    <tr>\n",
       "      <th>10</th>\n",
       "      <td>cvpr-papers-500-50/outputs_rag_df_golden_quest...</td>\n",
       "      <td>0.585313</td>\n",
       "    </tr>\n",
       "    <tr>\n",
       "      <th>11</th>\n",
       "      <td>cvpr-papers-500-75/outputs_rag_df_golden_quest...</td>\n",
       "      <td>0.559395</td>\n",
       "    </tr>\n",
       "    <tr>\n",
       "      <th>12</th>\n",
       "      <td>cvpr-papers-5000-0/outputs_rag_df_golden_quest...</td>\n",
       "      <td>0.524838</td>\n",
       "    </tr>\n",
       "    <tr>\n",
       "      <th>13</th>\n",
       "      <td>cvpr-papers-5000-25/outputs_rag_df_golden_ques...</td>\n",
       "      <td>0.533477</td>\n",
       "    </tr>\n",
       "    <tr>\n",
       "      <th>14</th>\n",
       "      <td>cvpr-papers-5000-50/outputs_rag_df_golden_ques...</td>\n",
       "      <td>0.503240</td>\n",
       "    </tr>\n",
       "    <tr>\n",
       "      <th>15</th>\n",
       "      <td>cvpr-papers-5000-75/outputs_rag_df_golden_ques...</td>\n",
       "      <td>0.572354</td>\n",
       "    </tr>\n",
       "  </tbody>\n",
       "</table>\n",
       "</div>"
      ],
      "text/plain": [
       "                                                 name  da_cot_10\n",
       "0   cvpr-papers-100-0/outputs_rag_df_golden_questi...   0.408207\n",
       "1   cvpr-papers-100-25/outputs_rag_df_golden_quest...   0.412527\n",
       "2   cvpr-papers-100-50/outputs_rag_df_golden_quest...   0.421166\n",
       "3   cvpr-papers-100-75/outputs_rag_df_golden_quest...   0.490281\n",
       "4   cvpr-papers-1000-0/outputs_rag_df_golden_quest...   0.574514\n",
       "5   cvpr-papers-1000-25/outputs_rag_df_golden_ques...   0.598272\n",
       "6   cvpr-papers-1000-50/outputs_rag_df_golden_ques...   0.634989\n",
       "7   cvpr-papers-1000-75/outputs_rag_df_golden_ques...   0.619870\n",
       "8   cvpr-papers-500-0/outputs_rag_df_golden_questi...   0.624190\n",
       "9   cvpr-papers-500-25/outputs_rag_df_golden_quest...   0.563715\n",
       "10  cvpr-papers-500-50/outputs_rag_df_golden_quest...   0.585313\n",
       "11  cvpr-papers-500-75/outputs_rag_df_golden_quest...   0.559395\n",
       "12  cvpr-papers-5000-0/outputs_rag_df_golden_quest...   0.524838\n",
       "13  cvpr-papers-5000-25/outputs_rag_df_golden_ques...   0.533477\n",
       "14  cvpr-papers-5000-50/outputs_rag_df_golden_ques...   0.503240\n",
       "15  cvpr-papers-5000-75/outputs_rag_df_golden_ques...   0.572354"
      ]
     },
     "execution_count": 4,
     "metadata": {},
     "output_type": "execute_result"
    }
   ],
   "source": [
    "results_df"
   ]
  },
  {
   "cell_type": "markdown",
   "metadata": {},
   "source": [
    "## Plot Gen Models"
   ]
  },
  {
   "cell_type": "code",
   "execution_count": 5,
   "metadata": {},
   "outputs": [
    {
     "data": {
      "text/html": [
       "<div>\n",
       "<style scoped>\n",
       "    .dataframe tbody tr th:only-of-type {\n",
       "        vertical-align: middle;\n",
       "    }\n",
       "\n",
       "    .dataframe tbody tr th {\n",
       "        vertical-align: top;\n",
       "    }\n",
       "\n",
       "    .dataframe thead th {\n",
       "        text-align: right;\n",
       "    }\n",
       "</style>\n",
       "<table border=\"1\" class=\"dataframe\">\n",
       "  <thead>\n",
       "    <tr style=\"text-align: right;\">\n",
       "      <th></th>\n",
       "      <th>name</th>\n",
       "      <th>da_cot_10</th>\n",
       "      <th>model</th>\n",
       "      <th>use_rag</th>\n",
       "      <th>Accuracy</th>\n",
       "    </tr>\n",
       "  </thead>\n",
       "  <tbody>\n",
       "    <tr>\n",
       "      <th>0</th>\n",
       "      <td>cvpr-papers-100-0/outputs_rag_df_golden_questi...</td>\n",
       "      <td>0.408207</td>\n",
       "      <td>NaN</td>\n",
       "      <td>True</td>\n",
       "      <td>0.408207</td>\n",
       "    </tr>\n",
       "    <tr>\n",
       "      <th>1</th>\n",
       "      <td>cvpr-papers-100-25/outputs_rag_df_golden_quest...</td>\n",
       "      <td>0.412527</td>\n",
       "      <td>NaN</td>\n",
       "      <td>True</td>\n",
       "      <td>0.412527</td>\n",
       "    </tr>\n",
       "    <tr>\n",
       "      <th>2</th>\n",
       "      <td>cvpr-papers-100-50/outputs_rag_df_golden_quest...</td>\n",
       "      <td>0.421166</td>\n",
       "      <td>NaN</td>\n",
       "      <td>True</td>\n",
       "      <td>0.421166</td>\n",
       "    </tr>\n",
       "    <tr>\n",
       "      <th>3</th>\n",
       "      <td>cvpr-papers-100-75/outputs_rag_df_golden_quest...</td>\n",
       "      <td>0.490281</td>\n",
       "      <td>NaN</td>\n",
       "      <td>True</td>\n",
       "      <td>0.490281</td>\n",
       "    </tr>\n",
       "    <tr>\n",
       "      <th>4</th>\n",
       "      <td>cvpr-papers-1000-0/outputs_rag_df_golden_quest...</td>\n",
       "      <td>0.574514</td>\n",
       "      <td>NaN</td>\n",
       "      <td>True</td>\n",
       "      <td>0.574514</td>\n",
       "    </tr>\n",
       "    <tr>\n",
       "      <th>5</th>\n",
       "      <td>cvpr-papers-1000-25/outputs_rag_df_golden_ques...</td>\n",
       "      <td>0.598272</td>\n",
       "      <td>NaN</td>\n",
       "      <td>True</td>\n",
       "      <td>0.598272</td>\n",
       "    </tr>\n",
       "    <tr>\n",
       "      <th>6</th>\n",
       "      <td>cvpr-papers-1000-50/outputs_rag_df_golden_ques...</td>\n",
       "      <td>0.634989</td>\n",
       "      <td>NaN</td>\n",
       "      <td>True</td>\n",
       "      <td>0.634989</td>\n",
       "    </tr>\n",
       "    <tr>\n",
       "      <th>7</th>\n",
       "      <td>cvpr-papers-1000-75/outputs_rag_df_golden_ques...</td>\n",
       "      <td>0.619870</td>\n",
       "      <td>NaN</td>\n",
       "      <td>True</td>\n",
       "      <td>0.619870</td>\n",
       "    </tr>\n",
       "    <tr>\n",
       "      <th>8</th>\n",
       "      <td>cvpr-papers-500-0/outputs_rag_df_golden_questi...</td>\n",
       "      <td>0.624190</td>\n",
       "      <td>NaN</td>\n",
       "      <td>True</td>\n",
       "      <td>0.624190</td>\n",
       "    </tr>\n",
       "    <tr>\n",
       "      <th>9</th>\n",
       "      <td>cvpr-papers-500-25/outputs_rag_df_golden_quest...</td>\n",
       "      <td>0.563715</td>\n",
       "      <td>NaN</td>\n",
       "      <td>True</td>\n",
       "      <td>0.563715</td>\n",
       "    </tr>\n",
       "    <tr>\n",
       "      <th>10</th>\n",
       "      <td>cvpr-papers-500-50/outputs_rag_df_golden_quest...</td>\n",
       "      <td>0.585313</td>\n",
       "      <td>NaN</td>\n",
       "      <td>True</td>\n",
       "      <td>0.585313</td>\n",
       "    </tr>\n",
       "    <tr>\n",
       "      <th>11</th>\n",
       "      <td>cvpr-papers-500-75/outputs_rag_df_golden_quest...</td>\n",
       "      <td>0.559395</td>\n",
       "      <td>NaN</td>\n",
       "      <td>True</td>\n",
       "      <td>0.559395</td>\n",
       "    </tr>\n",
       "    <tr>\n",
       "      <th>12</th>\n",
       "      <td>cvpr-papers-5000-0/outputs_rag_df_golden_quest...</td>\n",
       "      <td>0.524838</td>\n",
       "      <td>NaN</td>\n",
       "      <td>True</td>\n",
       "      <td>0.524838</td>\n",
       "    </tr>\n",
       "    <tr>\n",
       "      <th>13</th>\n",
       "      <td>cvpr-papers-5000-25/outputs_rag_df_golden_ques...</td>\n",
       "      <td>0.533477</td>\n",
       "      <td>NaN</td>\n",
       "      <td>True</td>\n",
       "      <td>0.533477</td>\n",
       "    </tr>\n",
       "    <tr>\n",
       "      <th>14</th>\n",
       "      <td>cvpr-papers-5000-50/outputs_rag_df_golden_ques...</td>\n",
       "      <td>0.503240</td>\n",
       "      <td>NaN</td>\n",
       "      <td>True</td>\n",
       "      <td>0.503240</td>\n",
       "    </tr>\n",
       "    <tr>\n",
       "      <th>15</th>\n",
       "      <td>cvpr-papers-5000-75/outputs_rag_df_golden_ques...</td>\n",
       "      <td>0.572354</td>\n",
       "      <td>NaN</td>\n",
       "      <td>True</td>\n",
       "      <td>0.572354</td>\n",
       "    </tr>\n",
       "  </tbody>\n",
       "</table>\n",
       "</div>"
      ],
      "text/plain": [
       "                                                 name  da_cot_10 model  \\\n",
       "0   cvpr-papers-100-0/outputs_rag_df_golden_questi...   0.408207   NaN   \n",
       "1   cvpr-papers-100-25/outputs_rag_df_golden_quest...   0.412527   NaN   \n",
       "2   cvpr-papers-100-50/outputs_rag_df_golden_quest...   0.421166   NaN   \n",
       "3   cvpr-papers-100-75/outputs_rag_df_golden_quest...   0.490281   NaN   \n",
       "4   cvpr-papers-1000-0/outputs_rag_df_golden_quest...   0.574514   NaN   \n",
       "5   cvpr-papers-1000-25/outputs_rag_df_golden_ques...   0.598272   NaN   \n",
       "6   cvpr-papers-1000-50/outputs_rag_df_golden_ques...   0.634989   NaN   \n",
       "7   cvpr-papers-1000-75/outputs_rag_df_golden_ques...   0.619870   NaN   \n",
       "8   cvpr-papers-500-0/outputs_rag_df_golden_questi...   0.624190   NaN   \n",
       "9   cvpr-papers-500-25/outputs_rag_df_golden_quest...   0.563715   NaN   \n",
       "10  cvpr-papers-500-50/outputs_rag_df_golden_quest...   0.585313   NaN   \n",
       "11  cvpr-papers-500-75/outputs_rag_df_golden_quest...   0.559395   NaN   \n",
       "12  cvpr-papers-5000-0/outputs_rag_df_golden_quest...   0.524838   NaN   \n",
       "13  cvpr-papers-5000-25/outputs_rag_df_golden_ques...   0.533477   NaN   \n",
       "14  cvpr-papers-5000-50/outputs_rag_df_golden_ques...   0.503240   NaN   \n",
       "15  cvpr-papers-5000-75/outputs_rag_df_golden_ques...   0.572354   NaN   \n",
       "\n",
       "    use_rag  Accuracy  \n",
       "0      True  0.408207  \n",
       "1      True  0.412527  \n",
       "2      True  0.421166  \n",
       "3      True  0.490281  \n",
       "4      True  0.574514  \n",
       "5      True  0.598272  \n",
       "6      True  0.634989  \n",
       "7      True  0.619870  \n",
       "8      True  0.624190  \n",
       "9      True  0.563715  \n",
       "10     True  0.585313  \n",
       "11     True  0.559395  \n",
       "12     True  0.524838  \n",
       "13     True  0.533477  \n",
       "14     True  0.503240  \n",
       "15     True  0.572354  "
      ]
     },
     "execution_count": 5,
     "metadata": {},
     "output_type": "execute_result"
    }
   ],
   "source": [
    "df = results_df\n",
    "\n",
    "# Gen model\n",
    "df['model'] = df['name'].str.extract(r'cvpr-papers-(\\w+)/')\n",
    "df['use_rag'] = df['name'].str.contains('outputs_rag').astype(bool)\n",
    "df['Accuracy'] = df['da_cot_10']\n",
    "\n",
    "# Embedding model\n",
    "# df['model'] = df['name'].str.extract(r'cvpr-papers-mistral-([\\w-]+)/')\n",
    "# df['rag_bool'] = True\n",
    "\n",
    "df"
   ]
  },
  {
   "cell_type": "code",
   "execution_count": 6,
   "metadata": {},
   "outputs": [
    {
     "data": {
      "text/plain": [
       "<matplotlib.legend.Legend at 0x7ff52e94d270>"
      ]
     },
     "execution_count": 6,
     "metadata": {},
     "output_type": "execute_result"
    },
    {
     "data": {
      "image/png": "[encoded data removed]",
      "text/plain": [
       "<Figure size 1000x600 with 1 Axes>"
      ]
     },
     "metadata": {},
     "output_type": "display_data"
    }
   ],
   "source": [
    "# Plot barplot model with seaborn\n",
    "plt.figure(figsize=(10, 6))\n",
    "sns.barplot(x='model', y='Accuracy', hue='use_rag', data=df)\n",
    "# Increase font sizes\n",
    "plt.xticks(fontsize=16)\n",
    "plt.yticks(fontsize=16)\n",
    "# Increase label size\n",
    "plt.xlabel('Model', fontsize=20)\n",
    "plt.ylabel('Accuracy', fontsize=20)\n",
    "# Increase legend size with title \"Use RAG\"\n",
    "plt.legend(title='Use RAG', title_fontsize=16, fontsize=16, loc='lower right')"
   ]
  },
  {
   "cell_type": "markdown",
   "metadata": {},
   "source": [
    "## Plot Parameters"
   ]
  },
  {
   "cell_type": "code",
   "execution_count": 7,
   "metadata": {},
   "outputs": [],
   "source": [
    "# Plot chunks and overlap\n",
    "# Extracting chunk_size and overlap using regex\n",
    "df = results_df\n",
    "df['chunk_size'] = df['name'].str.extract(r'cvpr-papers-(\\d+)-\\d+/')\n",
    "df['overlap'] = df['name'].str.extract(r'cvpr-papers-\\d+-(\\d+)/')\n",
    "\n",
    "# Converting to integers\n",
    "df['chunk_size'] = df['chunk_size'].astype(int)\n",
    "df['overlap'] = df['overlap'].astype(int)"
   ]
  },
  {
   "cell_type": "code",
   "execution_count": 8,
   "metadata": {},
   "outputs": [
    {
     "data": {
      "text/plain": [
       "(0.3, 0.9)"
      ]
     },
     "execution_count": 8,
     "metadata": {},
     "output_type": "execute_result"
    },
    {
     "data": {
      "image/png": "[encoded data removed]",
      "text/plain": [
       "<Figure size 1000x300 with 1 Axes>"
      ]
     },
     "metadata": {},
     "output_type": "display_data"
    }
   ],
   "source": [
    "# Plot barplot chunks with seaborn\n",
    "plt.figure(figsize=(10, 3))\n",
    "sns.barplot(x='chunk_size', y='da_cot_10', hue='overlap', data=df)\n",
    "# Increase font sizes\n",
    "plt.xticks(fontsize=16)\n",
    "plt.yticks(fontsize=16)\n",
    "# Increase label size\n",
    "plt.xlabel('Chunk Size', fontsize=20)\n",
    "plt.ylabel('Accuracy', fontsize=20)\n",
    "# Increase legend size with title \"Overlap\"\n",
    "plt.legend(title='Overlap', title_fontsize=16, fontsize=16, loc='upper left')\n",
    "\n",
    "plt.ylim(0.3, 0.9)"
   ]
  },
  {
   "cell_type": "code",
   "execution_count": 9,
   "metadata": {},
   "outputs": [
    {
     "data": {
      "text/plain": [
       "<Axes: xlabel='overlap', ylabel='da_cot_10'>"
      ]
     },
     "execution_count": 9,
     "metadata": {},
     "output_type": "execute_result"
    },
    {
     "data": {
      "image/png": "[encoded data removed]",
      "text/plain": [
       "<Figure size 1000x600 with 1 Axes>"
      ]
     },
     "metadata": {},
     "output_type": "display_data"
    }
   ],
   "source": [
    "# Plot barplot overlap with seaborn\n",
    "plt.figure(figsize=(10, 6))\n",
    "sns.barplot(x='overlap', y='da_cot_10', hue='chunk_size', data=df)"
   ]
  },
  {
   "cell_type": "markdown",
   "metadata": {},
   "source": [
    "## Plot Abstract x Not Abstract"
   ]
  },
  {
   "cell_type": "code",
   "execution_count": 49,
   "metadata": {},
   "outputs": [
    {
     "data": {
      "text/html": [
       "<div>\n",
       "<style scoped>\n",
       "    .dataframe tbody tr th:only-of-type {\n",
       "        vertical-align: middle;\n",
       "    }\n",
       "\n",
       "    .dataframe tbody tr th {\n",
       "        vertical-align: top;\n",
       "    }\n",
       "\n",
       "    .dataframe thead th {\n",
       "        text-align: right;\n",
       "    }\n",
       "</style>\n",
       "<table border=\"1\" class=\"dataframe\">\n",
       "  <thead>\n",
       "    <tr style=\"text-align: right;\">\n",
       "      <th></th>\n",
       "      <th>name</th>\n",
       "      <th>perplexity_accuracy</th>\n",
       "      <th>da_cot_10</th>\n",
       "      <th>rag_source</th>\n",
       "    </tr>\n",
       "  </thead>\n",
       "  <tbody>\n",
       "    <tr>\n",
       "      <th>0</th>\n",
       "      <td>outputs_rag_validation.csv/outputs_rag_validat...</td>\n",
       "      <td>0.886486</td>\n",
       "      <td>0.832432</td>\n",
       "      <td>abstract</td>\n",
       "    </tr>\n",
       "    <tr>\n",
       "      <th>1</th>\n",
       "      <td>outputs_no_rag_validation.csv/outputs_no_rag_v...</td>\n",
       "      <td>0.329730</td>\n",
       "      <td>0.172973</td>\n",
       "      <td>none</td>\n",
       "    </tr>\n",
       "    <tr>\n",
       "      <th>2</th>\n",
       "      <td>paper</td>\n",
       "      <td>NaN</td>\n",
       "      <td>0.659459</td>\n",
       "      <td>paper text</td>\n",
       "    </tr>\n",
       "  </tbody>\n",
       "</table>\n",
       "</div>"
      ],
      "text/plain": [
       "                                                name  perplexity_accuracy  \\\n",
       "0  outputs_rag_validation.csv/outputs_rag_validat...             0.886486   \n",
       "1  outputs_no_rag_validation.csv/outputs_no_rag_v...             0.329730   \n",
       "2                                              paper                  NaN   \n",
       "\n",
       "   da_cot_10  rag_source  \n",
       "0   0.832432    abstract  \n",
       "1   0.172973        none  \n",
       "2   0.659459  paper text  "
      ]
     },
     "execution_count": 49,
     "metadata": {},
     "output_type": "execute_result"
    }
   ],
   "source": [
    "df = results_df\n",
    "df = pd.concat([df, pd.DataFrame({\"name\": [\"paper\"], \"da_cot_10\": [0.659459]})], ignore_index=True)\n",
    "# Abstract data\n",
    "df['rag_source'] = ['abstract', 'none', 'paper text']\n",
    "df"
   ]
  },
  {
   "cell_type": "code",
   "execution_count": 50,
   "metadata": {},
   "outputs": [
    {
     "data": {
      "text/plain": [
       "<Axes: xlabel='rag_source', ylabel='da_cot_10'>"
      ]
     },
     "execution_count": 50,
     "metadata": {},
     "output_type": "execute_result"
    },
    {
     "data": {
      "image/png": "[encoded data removed]",
      "text/plain": [
       "<Figure size 1000x600 with 1 Axes>"
      ]
     },
     "metadata": {},
     "output_type": "display_data"
    }
   ],
   "source": [
    "# Plot bar\n",
    "plt.figure(figsize=(10, 6))\n",
    "sns.barplot(x='rag_source', y='da_cot_10', data=df)"
   ]
  },
  {
   "cell_type": "code",
   "execution_count": null,
   "metadata": {},
   "outputs": [],
   "source": []
  }
 ],
 "metadata": {
  "kernelspec": {
   "display_name": "rag",
   "language": "python",
   "name": "python3"
  },
  "language_info": {
   "codemirror_mode": {
    "name": "ipython",
    "version": 3
   },
   "file_extension": ".py",
   "mimetype": "text/x-python",
   "name": "python",
   "nbconvert_exporter": "python",
   "pygments_lexer": "ipython3",
   "version": "3.10.15"
  }
 },
 "nbformat": 4,
 "nbformat_minor": 2
}
