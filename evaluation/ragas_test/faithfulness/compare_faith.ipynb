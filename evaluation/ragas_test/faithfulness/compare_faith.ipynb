{
 "cells": [
  {
   "cell_type": "code",
   "execution_count": 1,
   "metadata": {},
   "outputs": [],
   "source": [
    "import pandas as pd\n",
    "import numpy as np"
   ]
  },
  {
   "cell_type": "code",
   "execution_count": 5,
   "metadata": {},
   "outputs": [
    {
     "data": {
      "text/html": [
       "<div>\n",
       "<style scoped>\n",
       "    .dataframe tbody tr th:only-of-type {\n",
       "        vertical-align: middle;\n",
       "    }\n",
       "\n",
       "    .dataframe tbody tr th {\n",
       "        vertical-align: top;\n",
       "    }\n",
       "\n",
       "    .dataframe thead th {\n",
       "        text-align: right;\n",
       "    }\n",
       "</style>\n",
       "<table border=\"1\" class=\"dataframe\">\n",
       "  <thead>\n",
       "    <tr style=\"text-align: right;\">\n",
       "      <th></th>\n",
       "      <th>question_i</th>\n",
       "      <th>answer_type</th>\n",
       "      <th>prompt</th>\n",
       "      <th>faithfulness_eval_reason</th>\n",
       "      <th>faithfulness_eval_score</th>\n",
       "    </tr>\n",
       "  </thead>\n",
       "  <tbody>\n",
       "    <tr>\n",
       "      <th>0</th>\n",
       "      <td>0</td>\n",
       "      <td>grounded</td>\n",
       "      <td>Consider the given context and following state...</td>\n",
       "      <td>\\n1. Yes, the statement is supported by the co...</td>\n",
       "      <td>1.000000</td>\n",
       "    </tr>\n",
       "    <tr>\n",
       "      <th>1</th>\n",
       "      <td>0</td>\n",
       "      <td>poor</td>\n",
       "      <td>Consider the given context and following state...</td>\n",
       "      <td>\\n1. No, the mission will be launched on Sunda...</td>\n",
       "      <td>0.500000</td>\n",
       "    </tr>\n",
       "    <tr>\n",
       "      <th>2</th>\n",
       "      <td>0</td>\n",
       "      <td>ungrounded</td>\n",
       "      <td>Consider the given context and following state...</td>\n",
       "      <td>\\n1) Yes, the PSLV-C56 mission is an important...</td>\n",
       "      <td>0.333333</td>\n",
       "    </tr>\n",
       "    <tr>\n",
       "      <th>3</th>\n",
       "      <td>1</td>\n",
       "      <td>grounded</td>\n",
       "      <td>Consider the given context and following state...</td>\n",
       "      <td>\\n1. Yes, the project aims to create a direct ...</td>\n",
       "      <td>1.000000</td>\n",
       "    </tr>\n",
       "    <tr>\n",
       "      <th>4</th>\n",
       "      <td>1</td>\n",
       "      <td>poor</td>\n",
       "      <td>Consider the given context and following state...</td>\n",
       "      <td>\\n1. Yes, the Uzbekistan-Afghanistan-Pakistan ...</td>\n",
       "      <td>0.500000</td>\n",
       "    </tr>\n",
       "  </tbody>\n",
       "</table>\n",
       "</div>"
      ],
      "text/plain": [
       "   question_i answer_type                                             prompt  \\\n",
       "0           0    grounded  Consider the given context and following state...   \n",
       "1           0        poor  Consider the given context and following state...   \n",
       "2           0  ungrounded  Consider the given context and following state...   \n",
       "3           1    grounded  Consider the given context and following state...   \n",
       "4           1        poor  Consider the given context and following state...   \n",
       "\n",
       "                            faithfulness_eval_reason  faithfulness_eval_score  \n",
       "0  \\n1. Yes, the statement is supported by the co...                 1.000000  \n",
       "1  \\n1. No, the mission will be launched on Sunda...                 0.500000  \n",
       "2  \\n1) Yes, the PSLV-C56 mission is an important...                 0.333333  \n",
       "3  \\n1. Yes, the project aims to create a direct ...                 1.000000  \n",
       "4  \\n1. Yes, the Uzbekistan-Afghanistan-Pakistan ...                 0.500000  "
      ]
     },
     "execution_count": 5,
     "metadata": {},
     "output_type": "execute_result"
    }
   ],
   "source": [
    "df_faith = pd.read_csv('faithfulness_scores.csv')\n",
    "df_faith2 = pd.read_csv('faithfulness_scores2.csv')\n",
    "df_faith.head()"
   ]
  },
  {
   "cell_type": "code",
   "execution_count": 6,
   "metadata": {},
   "outputs": [
    {
     "name": "stdout",
     "output_type": "stream",
     "text": [
      "0.6163218390804598\n",
      "0.5961061507936508\n"
     ]
    }
   ],
   "source": [
    "\n",
    "print(df_faith['faithfulness_eval_score'].mean())\n",
    "print(df_faith2['faithfulness_eval_score'].mean())"
   ]
  },
  {
   "cell_type": "code",
   "execution_count": 8,
   "metadata": {},
   "outputs": [],
   "source": [
    "def print_faith(df):\n",
    "    grounded = df[df['answer_type']=='grounded']\n",
    "    poor = df[df['answer_type']=='poor']\n",
    "    ungrounded = df[df['answer_type']=='ungrounded']\n",
    "\n",
    "    print('Grounded Mean: ', grounded['faithfulness_eval_score'].mean())\n",
    "    print('Poor Mean: ', poor['faithfulness_eval_score'].mean())\n",
    "    print('Ungrounded Mean: ', ungrounded['faithfulness_eval_score'].mean())"
   ]
  },
  {
   "cell_type": "code",
   "execution_count": 10,
   "metadata": {},
   "outputs": [
    {
     "name": "stdout",
     "output_type": "stream",
     "text": [
      "First Run:\n",
      "Grounded Mean:  0.8654761904761904\n",
      "Poor Mean:  0.4627380952380953\n",
      "Ungrounded Mean:  0.5456666666666666\n",
      "\n",
      "\n",
      "Second Run\n",
      "Grounded Mean:  0.835636645962733\n",
      "Poor Mean:  0.4214285714285714\n",
      "Ungrounded Mean:  0.5459183673469388\n"
     ]
    }
   ],
   "source": [
    "print('First Run:')\n",
    "print_faith(df_faith)\n",
    "\n",
    "print('\\n\\nSecond Run')\n",
    "print_faith(df_faith2)"
   ]
  }
 ],
 "metadata": {
  "kernelspec": {
   "display_name": "Python 3",
   "language": "python",
   "name": "python3"
  },
  "language_info": {
   "codemirror_mode": {
    "name": "ipython",
    "version": 3
   },
   "file_extension": ".py",
   "mimetype": "text/x-python",
   "name": "python",
   "nbconvert_exporter": "python",
   "pygments_lexer": "ipython3",
   "version": "3.11.0"
  }
 },
 "nbformat": 4,
 "nbformat_minor": 2
}
